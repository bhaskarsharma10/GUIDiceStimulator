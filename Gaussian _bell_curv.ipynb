{
 "cells": [
  {
   "cell_type": "code",
   "execution_count": 46,
   "metadata": {},
   "outputs": [
    {
     "data": {
      "image/png": "[encoded data removed]",
      "text/plain": [
       "<Figure size 432x288 with 1 Axes>"
      ]
     },
     "metadata": {
      "needs_background": "light"
     },
     "output_type": "display_data"
    }
   ],
   "source": [
    "import random\n",
    "import matplotlib.pyplot as plt\n",
    "\n",
    "\n",
    "\n",
    "\n",
    "# Function to roll the dice\n",
    "num_dice=2\n",
    "def roll_dice(num_dice):\n",
    "    outcome=0\n",
    "    while num_dice>0:\n",
    "        outcome=outcome+random.randint(1, 6)\n",
    "        num_dice=num_dice-1\n",
    "    return outcome\n",
    "\n",
    "# Dictionary to store the occurrences of dice rolls\n",
    "occurrences = {}\n",
    "\n",
    "# Roll the dice 100 times and record the occurrences\n",
    "for _ in range(10000):\n",
    "    roll = roll_dice(num_dice)\n",
    "    try:\n",
    "        occurrences[roll] += 1\n",
    "    except:\n",
    "        occurrences[roll]=1\n",
    "\n",
    "# Extract the results for plotting\n",
    "dice_numbers = list(occurrences.keys())\n",
    "frequency = list(occurrences.values())\n",
    "\n",
    "# Plotting the bar graph\n",
    "plt.bar(dice_numbers, frequency)\n",
    "plt.xlabel('Dice Number')\n",
    "plt.ylabel('Frequency')\n",
    "plt.title('Dice Roll Occurrences')\n",
    "plt.show()"
   ]
  },
  {
   "cell_type": "code",
   "execution_count": null,
   "metadata": {},
   "outputs": [],
   "source": []
  }
 ],
 "metadata": {
  "kernelspec": {
   "display_name": "base",
   "language": "python",
   "name": "python3"
  },
  "language_info": {
   "codemirror_mode": {
    "name": "ipython",
    "version": 3
   },
   "file_extension": ".py",
   "mimetype": "text/x-python",
   "name": "python",
   "nbconvert_exporter": "python",
   "pygments_lexer": "ipython3",
   "version": "3.9.12"
  },
  "orig_nbformat": 4
 },
 "nbformat": 4,
 "nbformat_minor": 2
}
